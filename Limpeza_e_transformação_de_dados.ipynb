{
  "nbformat": 4,
  "nbformat_minor": 0,
  "metadata": {
    "colab": {
      "name": "Limpeza e transformação de dados.ipynb",
      "provenance": []
    },
    "kernelspec": {
      "name": "python3",
      "display_name": "Python 3"
    }
  },
  "cells": [
    {
      "cell_type": "markdown",
      "source": [
        "Código para limpeza e transformação de dados de um arquivo csv"
      ],
      "metadata": {
        "id": "6_wllNhAhlNR"
      }
    },
    {
      "cell_type": "code",
      "source": [
        "#Importar bibliotecas\n",
        "import panda as pd\n",
        "import numpy as np"
      ],
      "metadata": {
        "id": "Scc6C0UmfgeT"
      },
      "execution_count": null,
      "outputs": []
    },
    {
      "cell_type": "code",
      "source": [
        "#Importar e ler arquivo\n",
        "data = pd.data.read_csv('data_csv')\n",
        "data.head()"
      ],
      "metadata": {
        "id": "uVeIIceSfp3p"
      },
      "execution_count": null,
      "outputs": []
    },
    {
      "cell_type": "code",
      "source": [
        "#Remove linhas dos dados com Not a Number\n",
        "data = data.dropna()"
      ],
      "metadata": {
        "id": "5JMX0cI8gekM"
      },
      "execution_count": null,
      "outputs": []
    },
    {
      "cell_type": "code",
      "source": [
        "#Exibe e remove linhas dos dados duplicados\n",
        "data = duplicated()\n",
        "data = data.drop_duplicated()"
      ],
      "metadata": {
        "id": "bw6jBdADg4f5"
      },
      "execution_count": null,
      "outputs": []
    },
    {
      "cell_type": "code",
      "source": [
        "#Substitui ? por NaN e remove\n",
        "data = data.replace('?' , np.nan)\n",
        "data = data.dropna()"
      ],
      "metadata": {
        "id": "bNPoNSlRg5XD"
      },
      "execution_count": null,
      "outputs": []
    },
    {
      "cell_type": "code",
      "source": [
        "#Remove colunas\n",
        "data = data.drop(data.columns[[0,3]], axis=1)\n",
        "#Remove linhas\n",
        "data = data.drop(data.index[[0,2]], axis=0)"
      ],
      "metadata": {
        "id": "nKJorl0ghI8x"
      },
      "execution_count": null,
      "outputs": []
    },
    {
      "cell_type": "code",
      "source": [
        "#Visualizar tabela ajustada\n",
        "data.head()"
      ],
      "metadata": {
        "id": "XIZWEmoAhi-w"
      },
      "execution_count": null,
      "outputs": []
    }
  ]
}